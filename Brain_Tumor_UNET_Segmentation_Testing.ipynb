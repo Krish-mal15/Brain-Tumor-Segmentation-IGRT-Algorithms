{
  "nbformat": 4,
  "nbformat_minor": 0,
  "metadata": {
    "colab": {
      "provenance": [],
      "authorship_tag": "ABX9TyOHXWFxs70piRafaW2tRau/",
      "include_colab_link": true
    },
    "kernelspec": {
      "name": "python3",
      "display_name": "Python 3"
    },
    "language_info": {
      "name": "python"
    }
  },
  "cells": [
    {
      "cell_type": "markdown",
      "metadata": {
        "id": "view-in-github",
        "colab_type": "text"
      },
      "source": [
        "<a href=\"https://colab.research.google.com/github/Krish-mal15/Brain-Tumor-Segmentation-IGRT-Algorithms/blob/main/Brain_Tumor_UNET_Segmentation_Testing.ipynb\" target=\"_parent\"><img src=\"https://colab.research.google.com/assets/colab-badge.svg\" alt=\"Open In Colab\"/></a>"
      ]
    },
    {
      "cell_type": "code",
      "execution_count": null,
      "metadata": {
        "id": "C_eCnbAgE4Uh"
      },
      "outputs": [],
      "source": [
        "import tensorflow as tf\n",
        "import keras\n",
        "from keras.models import load_model\n",
        "import cv2\n",
        "import numpy as np\n",
        "from google.colab.patches import cv2_imshow\n",
        "\n",
        "\n",
        "H = 256\n",
        "W = 256\n",
        "\n",
        "\n",
        "model = keras.models.load_model('/UNET-tumor-segment-model.keras')\n",
        "\n",
        "# detection_model = tf.keras.models.load_model('/tumor-detection.keras')\n",
        "# model.summary()\n",
        "\n",
        "x = '/Test-Images/627.png'\n",
        "y = '/Test-Images/627-mask.png'\n",
        "\n",
        "\n",
        "image = cv2.imread(x, cv2.IMREAD_COLOR)\n",
        "image = cv2.resize(image, (W, H))\n",
        "\n",
        "x = image/255.0\n",
        "x = np.expand_dims(x, axis=0)\n",
        "\n",
        "mask = cv2.imread(y, cv2.IMREAD_GRAYSCALE)\n",
        "mask = cv2.resize(mask, (W, H))\n",
        "\n",
        "y_pred = model.predict(x, verbose=0)[0]\n",
        "y_pred = np.squeeze(y_pred, axis=-1)\n",
        "y_pred = y_pred >= 0.5\n",
        "y_pred = y_pred.astype(np.int32)\n",
        "\n",
        "mask = np.expand_dims(mask, axis=-1)\n",
        "mask = np.concatenate([mask, mask, mask], axis=-1)\n",
        "\n",
        "y_pred = np.expand_dims(y_pred, axis=-1)\n",
        "y_pred = np.concatenate([y_pred, y_pred, y_pred], axis=-1)\n",
        "y_pred = y_pred * 255\n",
        "\n",
        "line = np.ones((H, 10, 3)) * 255\n",
        "\n",
        "pixels = np.argwhere(y_pred == 255)\n",
        "print('Pixels: ', pixels)\n",
        "\n",
        "y_pred = y_pred.astype(image.dtype)\n",
        "\n",
        "add = cv2.addWeighted(image, 0.9, y_pred, 0.7, 0.0)\n",
        "\n",
        "cat_images = np.concatenate([image, add, mask_new], axis=1)\n",
        "cv2_imshow(cat_images)\n",
        "\n",
        "mask = mask/255.0\n",
        "mask = (mask > 0.5).astype(np.int32).flatten()\n",
        "y_pred = y_pred.flatten()\n",
        "\n",
        "print(y_pred)"
      ]
    }
  ]
}